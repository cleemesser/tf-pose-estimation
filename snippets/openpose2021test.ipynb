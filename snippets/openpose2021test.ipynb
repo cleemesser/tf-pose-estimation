{
 "cells": [
  {
   "cell_type": "markdown",
   "source": [
    "# Guide to OpenPose 2021\r\n",
    "[original article](https://analyticsindiamag.com/guide-to-openpose-for-real-time-human-pose-estimation/)\r\n",
    "\r\n",
    "- Note this notebook is based upon the linked colab notebook rather than the code actually shown in the article. I think there are only minor differences\r\n"
   ],
   "metadata": {}
  },
  {
   "cell_type": "code",
   "execution_count": null,
   "source": [
    "# meant to work on colab\r\n",
    "import os\r\n",
    "from os.path import exists, join, basename, splitext\r\n"
   ],
   "outputs": [],
   "metadata": {}
  },
  {
   "cell_type": "code",
   "execution_count": null,
   "source": [
    "git_repo_url = 'https://github.com/CMU-Perceptual-Computing-Lab/openpose.git'\r\n",
    "project_name = splitext(basename(git_repo_url))[0]\r\n",
    "if not exists(project_name):\r\n",
    "  # see: https://github.com/CMU-Perceptual-Computing-Lab/openpose/issues/949\r\n",
    "  # install new CMake becaue of CUDA10\r\n",
    "  !wget -q https://cmake.org/files/v3.13/cmake-3.13.0-Linux-x86_64.tar.gz\r\n",
    "  !tar xfz cmake-3.13.0-Linux-x86_64.tar.gz --strip-components=1 -C /usr/local\r\n",
    "  # clone openpose\r\n",
    "  !git clone -q --depth 1 $git_repo_url\r\n",
    "  !sed -i 's/execute_process(COMMAND git checkout master WORKING_DIRECTORY ${CMAKE_SOURCE_DIR}\\/3rdparty\\/caffe)/execute_process(COMMAND git checkout f019d0dfe86f49d1140961f8c7dec22130c83154 WORKING_DIRECTORY ${CMAKE_SOURCE_DIR}\\/3rdparty\\/caffe)/g' openpose/CMakeLists.txt\r\n",
    "  # install system dependencies\r\n",
    "  !apt-get -qq install -y libatlas-base-dev libprotobuf-dev libleveldb-dev libsnappy-dev libhdf5-serial-dev protobuf-compiler libgflags-dev libgoogle-glog-dev liblmdb-dev opencl-headers ocl-icd-opencl-dev libviennacl-dev\r\n",
    "  # install python dependencies\r\n",
    "  !pip install -q youtube-dl\r\n",
    "  # build openpose\r\n",
    "  !cd openpose && rm -rf build || true && mkdir build && cd build && cmake .. && make -j`nproc`\r\n",
    "  \r\n",
    "from IPython.display import YouTubeVideo"
   ],
   "outputs": [],
   "metadata": {}
  },
  {
   "cell_type": "code",
   "execution_count": null,
   "source": [],
   "outputs": [],
   "metadata": {}
  },
  {
   "cell_type": "code",
   "execution_count": null,
   "source": [
    "### Detect poses on a test video\r\n",
    "We are going to detect poses on the following youtube video:"
   ],
   "outputs": [],
   "metadata": {}
  },
  {
   "cell_type": "code",
   "execution_count": null,
   "source": [
    "# Chaplin Modern Times 'non-sense...'\r\n",
    "# https://youtu.be/0daS_SDCT_U\r\n",
    "YOUTUBE_ID = '0daS_SDCT_U'\r\n",
    "YouTubeVideo(YOUTUBE_ID)"
   ],
   "outputs": [],
   "metadata": {}
  },
  {
   "cell_type": "code",
   "execution_count": null,
   "source": [
    "# Download the above youtube video, cut the first 5 seconds (or is it 15 seconds) and do the pose detection on that 5 seconds:\r\n",
    "!rm -rf youtube.mp4\r\n",
    "# download the youtube with the given ID\r\n",
    "!youtube-dl -f 'bestvideo[ext=mp4]' --output \"youtube.%(ext)s\" https://www.youtube.com/watch?v=$YOUTUBE_ID\r\n",
    "# cutting the first 15 seconds\r\n",
    "!ffmpeg -y -loglevel info -i youtube.mp4 -t 15 video.mp4\r\n",
    "# detect poses on the these 5 seconds\r\n",
    "!rm openpose.avi\r\n",
    "!cd openpose && ./build/examples/openpose/openpose.bin --video ../video.mp4 --write_json ./output/ --display 0  --write_video ../openpose.avi\r\n",
    "# convert the result into MP4\r\n",
    "!ffmpeg -y -loglevel info -i openpose.avi output.mp4"
   ],
   "outputs": [],
   "metadata": {}
  },
  {
   "cell_type": "markdown",
   "source": [
    "Visualize the result:"
   ],
   "metadata": {}
  },
  {
   "cell_type": "code",
   "execution_count": null,
   "source": [
    "def show_local_mp4_video(file_name, width=640, height=480):\r\n",
    "  import io\r\n",
    "  import base64\r\n",
    "  from IPython.display import HTML\r\n",
    "  video_encoded = base64.b64encode(io.open(file_name, 'rb').read())\r\n",
    "  return HTML(data='''<video width=\"{0}\" height=\"{1}\" alt=\"test\" controls>\r\n",
    "                        <source src=\"data:video/mp4;base64,{2}\" type=\"video/mp4\" />\r\n",
    "                      </video>'''.format(width, height, video_encoded.decode('ascii')))\r\n",
    "\r\n",
    "show_local_mp4_video('output.mp4', width=960, height=720)"
   ],
   "outputs": [],
   "metadata": {}
  },
  {
   "cell_type": "markdown",
   "source": [
    "### Output video"
   ],
   "metadata": {}
  },
  {
   "cell_type": "code",
   "execution_count": null,
   "source": [],
   "outputs": [],
   "metadata": {}
  },
  {
   "cell_type": "code",
   "execution_count": null,
   "source": [],
   "outputs": [],
   "metadata": {}
  },
  {
   "cell_type": "code",
   "execution_count": null,
   "source": [],
   "outputs": [],
   "metadata": {}
  },
  {
   "cell_type": "code",
   "execution_count": null,
   "source": [],
   "outputs": [],
   "metadata": {}
  },
  {
   "cell_type": "code",
   "execution_count": null,
   "source": [],
   "outputs": [],
   "metadata": {}
  },
  {
   "cell_type": "code",
   "execution_count": null,
   "source": [],
   "outputs": [],
   "metadata": {}
  },
  {
   "cell_type": "code",
   "execution_count": null,
   "source": [],
   "outputs": [],
   "metadata": {}
  },
  {
   "cell_type": "code",
   "execution_count": null,
   "source": [],
   "outputs": [],
   "metadata": {}
  }
 ],
 "metadata": {
  "orig_nbformat": 4,
  "language_info": {
   "name": "plaintext"
  }
 },
 "nbformat": 4,
 "nbformat_minor": 2
}